{
 "cells": [
  {
   "cell_type": "code",
   "execution_count": null,
   "metadata": {},
   "outputs": [],
   "source": [
    "from sqlalchemy import create_engine, text\n",
    "\n",
    "import getpass\n",
    "import sqlalchemy as sa"
   ]
  },
  {
   "cell_type": "markdown",
   "metadata": {},
   "source": [
    "## Settings"
   ]
  },
  {
   "cell_type": "markdown",
   "metadata": {},
   "source": [
    "Replace these parameters"
   ]
  },
  {
   "cell_type": "code",
   "execution_count": null,
   "metadata": {},
   "outputs": [],
   "source": [
    "CDM_SCHEMA = ''  # 'erspc'\n",
    "RESULTS_SCHEMA = ''  # 'erspc_results'\n",
    "CDM_DATA_PATH = ''  # '../data/erspc_omop_cdm.sql'"
   ]
  },
  {
   "cell_type": "markdown",
   "metadata": {},
   "source": [
    "# Connect to the db"
   ]
  },
  {
   "cell_type": "code",
   "execution_count": null,
   "metadata": {},
   "outputs": [],
   "source": [
    "server = 'postgresql'\n",
    "port = '5432'\n",
    "db = 'ohdsi'\n",
    "engine = create_engine(f'postgresql://{input(\"User:\")}:{getpass.getpass(\"Password:\")}@{server}:{port}/{db}')"
   ]
  },
  {
   "cell_type": "code",
   "execution_count": null,
   "metadata": {},
   "outputs": [],
   "source": [
    "#sa.inspect(engine).get_schema_names()"
   ]
  },
  {
   "cell_type": "code",
   "execution_count": null,
   "metadata": {},
   "outputs": [],
   "source": [
    "#sa.inspect(engine).get_table_names('erspc_results')"
   ]
  },
  {
   "cell_type": "code",
   "execution_count": null,
   "metadata": {},
   "outputs": [],
   "source": [
    "if CDM_SCHEMA in sa.inspect(engine).get_schema_names():\n",
    "    print('WARNING: the schema already exists. Proceed with care')"
   ]
  },
  {
   "cell_type": "markdown",
   "metadata": {},
   "source": [
    "## Create CDM"
   ]
  },
  {
   "cell_type": "code",
   "execution_count": null,
   "metadata": {},
   "outputs": [],
   "source": [
    "con = engine.connect()"
   ]
  },
  {
   "cell_type": "code",
   "execution_count": null,
   "metadata": {},
   "outputs": [],
   "source": [
    "# con.execute('DROP SCHEMA %s CASCADE;' % CDM_SCHEMA)\n",
    "con.execute('CREATE SCHEMA %s;' % CDM_SCHEMA)"
   ]
  },
  {
   "cell_type": "code",
   "execution_count": null,
   "metadata": {},
   "outputs": [],
   "source": [
    "con.execute('SET search_path TO %s;' % CDM_SCHEMA)\n",
    "with open('pioneer_omop_cdm/OMOP CDM postgresql v6_0_onco_modified ddl.sql') as f_ddl:\n",
    "    con.execute(f_ddl.read())"
   ]
  },
  {
   "cell_type": "markdown",
   "metadata": {},
   "source": [
    "## Load data"
   ]
  },
  {
   "cell_type": "code",
   "execution_count": null,
   "metadata": {},
   "outputs": [],
   "source": [
    "from extract_inserts_from_sql_dump import extract_inserts"
   ]
  },
  {
   "cell_type": "code",
   "execution_count": null,
   "metadata": {},
   "outputs": [],
   "source": [
    "with open(CDM_DATA_PATH) as f_sql:\n",
    "    queries = extract_inserts(f_sql)"
   ]
  },
  {
   "cell_type": "code",
   "execution_count": null,
   "metadata": {},
   "outputs": [],
   "source": [
    "con.execute('SET search_path TO %s;' % CDM_SCHEMA)\n",
    "for query in queries:\n",
    "    if 'visit_occurrence_source_value' in query:\n",
    "        # Quick and dirty fix for visit occurrence source value. \n",
    "        # TODO: this field should not be exported (removed in final ETL step)\n",
    "        import re\n",
    "        query = query.replace(', visit_occurrence_source_value', '')\n",
    "        if query.startswith('INSERT INTO observation'):\n",
    "            query, n = re.subn(r'\\(((?:.+?,){13}).+?,((?:.+?,){7})', r'(\\1\\2', query)\n",
    "        else:\n",
    "            query, n = re.subn(r\", ?'[^']+?'\\)\", ')', query)\n",
    "    try:\n",
    "        r = con.execute(query)\n",
    "        print(query[:20], ' ', r.rowcount)\n",
    "    except Exception as e:\n",
    "        print('Failed insert: %s - %s' % (query[:20], exc.args[0]))\n",
    "print('Inserts done')"
   ]
  },
  {
   "cell_type": "markdown",
   "metadata": {},
   "source": [
    "## Apply constraints, indexes and add vocab views"
   ]
  },
  {
   "cell_type": "code",
   "execution_count": null,
   "metadata": {},
   "outputs": [],
   "source": [
    "con.execute('SET search_path TO %s;' % CDM_SCHEMA)\n",
    "with open('pioneer_omop_cdm/OMOP CDM postgresql v6_0_dev pk indexes.sql') as f_ind:\n",
    "    con.execute(f_ind.read())"
   ]
  },
  {
   "cell_type": "code",
   "execution_count": null,
   "metadata": {},
   "outputs": [],
   "source": [
    "with open('pioneer_omop_cdm/OMOP CDM postgresql v6_0_dev constraints.sql') as f_constr:\n",
    "    con.execute(f_constr.read())"
   ]
  },
  {
   "cell_type": "code",
   "execution_count": null,
   "metadata": {},
   "outputs": [],
   "source": [
    "con.execute('SET search_path TO %s;' % CDM_SCHEMA)\n",
    "with open('other/vocab_view.sql') as f_vocab_view:\n",
    "    con.execute(f_vocab_view.read())"
   ]
  },
  {
   "cell_type": "markdown",
   "metadata": {},
   "source": [
    "## Setup results schema"
   ]
  },
  {
   "cell_type": "code",
   "execution_count": null,
   "metadata": {},
   "outputs": [],
   "source": [
    "con = engine.connect()"
   ]
  },
  {
   "cell_type": "code",
   "execution_count": null,
   "metadata": {},
   "outputs": [],
   "source": [
    "# con.execute('DROP SCHEMA %s CASCADE;' % RESULTS_SCHEMA)\n",
    "con.execute('CREATE SCHEMA %s;' % RESULTS_SCHEMA)"
   ]
  },
  {
   "cell_type": "code",
   "execution_count": null,
   "metadata": {},
   "outputs": [],
   "source": [
    "con.execute('SET search_path TO %s;' % RESULTS_SCHEMA)\n",
    "with open('other/results_ddl_2.7.4.sql') as f_results:\n",
    "    con.execute(text(f_results.read()).execution_options(auto_commit = True))"
   ]
  },
  {
   "cell_type": "code",
   "execution_count": null,
   "metadata": {},
   "outputs": [],
   "source": [
    "con.execute('CREATE OR REPLACE VIEW concept_hierarchy AS (SELECT * FROM vocab.concept_hierarchy);')"
   ]
  },
  {
   "cell_type": "markdown",
   "metadata": {},
   "source": [
    "Somehow Achilles doesn't create the results_dist table, copy from other results schema"
   ]
  },
  {
   "cell_type": "code",
   "execution_count": null,
   "metadata": {},
   "outputs": [],
   "source": [
    "con.execute('CREATE TABLE %s.achilles_results_dist AS (SELECT * FROM synpuf_1k_results.achilles_results_dist) WITH NO DATA' % RESULTS_SCHEMA)"
   ]
  },
  {
   "cell_type": "code",
   "execution_count": null,
   "metadata": {},
   "outputs": [],
   "source": [
    "con.close()"
   ]
  },
  {
   "cell_type": "markdown",
   "metadata": {},
   "source": [
    "## Source Daimon"
   ]
  },
  {
   "cell_type": "markdown",
   "metadata": {},
   "source": [
    "_manual step_"
   ]
  },
  {
   "cell_type": "markdown",
   "metadata": {},
   "source": [
    "To add in Atlas->Configuration"
   ]
  },
  {
   "cell_type": "markdown",
   "metadata": {},
   "source": [
    "Note: had to 'Clear Configuration Cash' to make it work. Gettign EntityExsistsErrors before that"
   ]
  },
  {
   "cell_type": "markdown",
   "metadata": {},
   "source": [
    "## Run Achilles (R)"
   ]
  },
  {
   "cell_type": "markdown",
   "metadata": {},
   "source": [
    "Run Achilles R script"
   ]
  },
  {
   "cell_type": "markdown",
   "metadata": {},
   "source": [
    "# End of new data source setup steps"
   ]
  },
  {
   "cell_type": "markdown",
   "metadata": {},
   "source": [
    "========================================================"
   ]
  },
  {
   "cell_type": "markdown",
   "metadata": {},
   "source": []
  },
  {
   "cell_type": "markdown",
   "metadata": {},
   "source": [
    "# One time scripts. Do NOT execute again"
   ]
  },
  {
   "cell_type": "markdown",
   "metadata": {},
   "source": [
    "## Add CPT4 to concepts\n",
    "Only needed once (run on 2020-02-16)"
   ]
  },
  {
   "cell_type": "code",
   "execution_count": null,
   "metadata": {},
   "outputs": [],
   "source": [
    "con = engine.connect()"
   ]
  },
  {
   "cell_type": "code",
   "execution_count": null,
   "metadata": {},
   "outputs": [],
   "source": [
    "import csv"
   ]
  },
  {
   "cell_type": "code",
   "execution_count": null,
   "metadata": {},
   "outputs": [],
   "source": [
    "with open('../data/CONCEPT_CPT4_WITH_CONCEPT_NAMES_20191223.csv') as f:\n",
    "    cpt4_concepts = csv.DictReader(f,delimiter='\\t')\n",
    "    for cpt4 in cpt4_concepts:\n",
    "        if \"'\" in cpt4['concept_name']:\n",
    "            cpt4['concept_name'] = cpt4['concept_name'].replace(\"'\", \"''\")\n",
    "            \n",
    "        query = \"insert into vocab.concept VALUES ('%s');\" % \"','\".join(cpt4.values())\n",
    "        query = query.replace(\",''\", ',NULL')\n",
    "        try:\n",
    "            r = con.execute(text(query))\n",
    "        except Exception as e:\n",
    "            if 'xpk_concept' in e.args[0]:\n",
    "                continue\n",
    "            print(e)\n",
    "            break"
   ]
  },
  {
   "cell_type": "code",
   "execution_count": null,
   "metadata": {},
   "outputs": [],
   "source": [
    "con.execute(\"select count(*) from vocab.concept where vocabulary_id = 'CPT4'\").fetchone() # 15935"
   ]
  },
  {
   "cell_type": "code",
   "execution_count": null,
   "metadata": {},
   "outputs": [],
   "source": [
    "con.close()"
   ]
  },
  {
   "cell_type": "markdown",
   "metadata": {},
   "source": [
    "## Concept Hierarchy to vocab table"
   ]
  },
  {
   "cell_type": "code",
   "execution_count": null,
   "metadata": {},
   "outputs": [],
   "source": [
    "VOCABULARY_SCHEMA = 'vocab'"
   ]
  },
  {
   "cell_type": "code",
   "execution_count": null,
   "metadata": {},
   "outputs": [],
   "source": [
    "con = engine.connect()"
   ]
  },
  {
   "cell_type": "code",
   "execution_count": null,
   "metadata": {},
   "outputs": [],
   "source": [
    "con.execute('SET search_path TO %s;' % VOCABULARY_SCHEMA)\n",
    "with open('other/concept_hierarchy_2.7.4.sql') as f_ch:\n",
    "    query = ''\n",
    "    for line in f_ch:\n",
    "        query += line\n",
    "        if ';' in line:\n",
    "            print(query[:100])\n",
    "            con.execute(text(query).execution_options(auto_commit = True))\n",
    "            query = ''"
   ]
  },
  {
   "cell_type": "code",
   "execution_count": null,
   "metadata": {},
   "outputs": [],
   "source": [
    "con.execute('SET search_path TO %s;' % RESULTS_SCHEMA)\n",
    "con.execute('CREATE OR REPLACE VIEW concept_hierarchy AS (SELECT * FROM vocab.concept_hierarchy);')"
   ]
  },
  {
   "cell_type": "code",
   "execution_count": null,
   "metadata": {},
   "outputs": [],
   "source": [
    "con.close()"
   ]
  }
 ],
 "metadata": {
  "kernelspec": {
   "display_name": "Python 3",
   "language": "python",
   "name": "python3"
  },
  "language_info": {
   "codemirror_mode": {
    "name": "ipython",
    "version": 3
   },
   "file_extension": ".py",
   "mimetype": "text/x-python",
   "name": "python",
   "nbconvert_exporter": "python",
   "pygments_lexer": "ipython3",
   "version": "3.7.3"
  }
 },
 "nbformat": 4,
 "nbformat_minor": 4
}
